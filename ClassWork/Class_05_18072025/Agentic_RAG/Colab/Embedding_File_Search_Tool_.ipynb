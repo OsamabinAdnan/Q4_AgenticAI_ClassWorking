{
  "cells": [
    {
      "cell_type": "markdown",
      "id": "7c30bb96",
      "metadata": {
        "id": "7c30bb96"
      },
      "source": [
        "# Embedding - File Search Tool\n",
        "\n",
        "### How to create a Vector Database\n",
        "Go to Open AI Platform -> Dashboard -> storage -> vector stores ->   \n",
        "create db -> add files -> upload your file -> attach -> copy vector store id and save"
      ]
    },
    {
      "cell_type": "code",
      "execution_count": null,
      "id": "efeabc2e",
      "metadata": {
        "id": "efeabc2e"
      },
      "outputs": [],
      "source": [
        "!pip install -qU openai-agents"
      ]
    },
    {
      "cell_type": "code",
      "execution_count": null,
      "id": "7395ea60",
      "metadata": {
        "id": "7395ea60"
      },
      "outputs": [],
      "source": [
        "import nest_asyncio\n",
        "nest_asyncio.apply()  # To run async functions in google colab notebook"
      ]
    },
    {
      "cell_type": "code",
      "execution_count": null,
      "id": "9a6361a6",
      "metadata": {
        "id": "9a6361a6"
      },
      "outputs": [],
      "source": [
        "import os\n",
        "from google.colab import userdata\n",
        "\n",
        "API_KEY = userdata.get(\"OPENAI_API_KEY\")  # Get api key from google secrets\n",
        "os.environ[\"OPENAI_API_KEY\"] = API_KEY    # To set api key in environment variables\n"
      ]
    },
    {
      "cell_type": "code",
      "execution_count": null,
      "id": "71db55a3",
      "metadata": {
        "id": "71db55a3"
      },
      "outputs": [],
      "source": [
        "import asyncio\n",
        "from agents import Agent, Runner, FileSearchTool\n",
        "\n",
        "\n",
        "agent = Agent(\n",
        "    name=\"Assistant\",\n",
        "    instructions=\"\"\"\n",
        "        You are acting as me, the owner of this service.\n",
        "        Always speak in the first person, as if you are the person providing the service.\n",
        "        Be friendly, concise, and helpful. Clearly explain what I offer, answer questions,\n",
        "        and keep the conversation natural and tailored to the user's needs.\n",
        "        Ask clarifying questions if needed to better assist them.\n",
        "    \"\"\",\n",
        "    tools=[\n",
        "        FileSearchTool( #! FileSearchTool will only work with OpenAI API key,\n",
        "            max_num_results=3,\n",
        "            vector_store_ids=[\"YOUR_VECTOR_STORE_ID\"],\n",
        "        )\n",
        "    ]\n",
        ")\n",
        "\n",
        "async def main():\n",
        "    result = await Runner.run(agent, input=\"what is your name\")\n",
        "    print(result.final_output)\n",
        "\n",
        "\n",
        "asyncio.run(main())\n"
      ]
    }
  ],
  "metadata": {
    "kernelspec": {
      "display_name": "class-11",
      "language": "python",
      "name": "python3"
    },
    "language_info": {
      "name": "python",
      "version": "3.12.9"
    },
    "colab": {
      "provenance": []
    }
  },
  "nbformat": 4,
  "nbformat_minor": 5
}