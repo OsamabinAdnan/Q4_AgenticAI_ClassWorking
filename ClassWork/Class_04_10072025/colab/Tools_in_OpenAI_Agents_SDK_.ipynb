{
  "cells": [
    {
      "cell_type": "markdown",
      "source": [
        "# Hosted Tools & Function Tools in OpenAI Agents SDK\n",
        "### First set OpenAI API key in google colab secrets"
      ],
      "metadata": {
        "id": "wnl6Bw3AlsZA"
      },
      "id": "wnl6Bw3AlsZA"
    },
    {
      "cell_type": "code",
      "source": [
        "!pip install -qU openai-agents"
      ],
      "metadata": {
        "id": "4wLGgPrHlgWo"
      },
      "id": "4wLGgPrHlgWo",
      "execution_count": null,
      "outputs": []
    },
    {
      "cell_type": "code",
      "execution_count": null,
      "id": "e9c58fce",
      "metadata": {
        "id": "e9c58fce"
      },
      "outputs": [],
      "source": [
        "import nest_asyncio\n",
        "nest_asyncio.apply()  # To run async functions in google colab notebook"
      ]
    },
    {
      "cell_type": "code",
      "execution_count": null,
      "id": "2ab257c9",
      "metadata": {
        "id": "2ab257c9"
      },
      "outputs": [],
      "source": [
        "from google.colab import userdata\n",
        "import os\n",
        "from agents import Agent, Runner\n",
        "\n",
        "API_KEY = userdata.get(\"OPENAI_API_KEY\")  # Get api key from google secrets\n",
        "os.environ[\"OPENAI_API_KEY\"] = API_KEY    # To set api key in environment variables\n",
        "\n",
        "\n",
        "agent = Agent(name=\"Assistant\")\n",
        "result = Runner.run_sync(starting_agent=agent, input=\"Hello\")\n",
        "print(result.final_output)"
      ]
    },
    {
      "cell_type": "code",
      "execution_count": null,
      "id": "96293ebf",
      "metadata": {
        "id": "96293ebf"
      },
      "outputs": [],
      "source": [
        "from agents import Agent, Runner, function_tool, WebSearchTool\n",
        "\n",
        "\n",
        "@function_tool\n",
        "def get_user_data(min_age: int) -> list[dict]:\n",
        "    \"Retrieve user data based on a minimum age\"\n",
        "    users = [\n",
        "        {\"name\": \"Muneeb\", \"age\": 22},\n",
        "        {\"name\": \"Muhammad Ubaid Hussain\", \"age\": 25},\n",
        "        {\"name\": \"Azan\", \"age\": 19},\n",
        "    ]\n",
        "\n",
        "    for user in users:\n",
        "        if user[\"age\"] < min_age:\n",
        "            users.remove(user)\n",
        "\n",
        "    return users\n",
        "\n",
        "\n",
        "\n",
        "rishtey_wali_agent = Agent(\n",
        "    name=\"Auntie\",\n",
        "    model=\"gpt-4o-mini\",\n",
        "    instructions=\"You are a warm and wise 'Rishtey Wali Auntie' who helps people find matches\",\n",
        "    tools=[get_user_data, WebSearchTool()]   # WebSearchTool will only work with OpenAI API key, if you want to use any other free use \"browser-use\"\n",
        ")\n",
        "\n",
        "result = Runner.run_sync(\n",
        "    starting_agent=rishtey_wali_agent,\n",
        "    input=\"find a match of 25 minimum age and tell me the details about the match from linkedin\"\n",
        ")\n",
        "\n",
        "print(result.final_output)"
      ]
    }
  ],
  "metadata": {
    "kernelspec": {
      "display_name": "class-10",
      "language": "python",
      "name": "python3"
    },
    "language_info": {
      "name": "python",
      "version": "3.12.9"
    },
    "colab": {
      "provenance": []
    }
  },
  "nbformat": 4,
  "nbformat_minor": 5
}